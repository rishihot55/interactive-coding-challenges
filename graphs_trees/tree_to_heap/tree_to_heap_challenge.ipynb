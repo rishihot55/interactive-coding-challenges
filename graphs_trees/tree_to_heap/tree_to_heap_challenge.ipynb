{
 "cells": [
  {
   "cell_type": "markdown",
   "metadata": {},
   "source": [
    "<small><i>This notebook was prepared by [Donne Martin](https://github.com/donnemartin) and [Rishi Rajasekaran](https://github.com/rishihot55). Source and license info is on [GitHub](https://github.com/donnemartin/interactive-coding-challenges).</i></small>"
   ]
  },
  {
   "cell_type": "markdown",
   "metadata": {},
   "source": [
    "# Challenge Notebook"
   ]
  },
  {
   "cell_type": "markdown",
   "metadata": {},
   "source": [
    "## Problem: Convert a binary tree to a heap.\n",
    "\n",
    "* [Constraints](#Constraints)\n",
    "* [Test Cases](#Test-Cases)\n",
    "* [Algorithm](#Algorithm)\n",
    "* [Code](#Code)\n",
    "* [Unit Test](#Unit-Test)\n",
    "* [Solution Notebook](#Solution-Notebook)"
   ]
  },
  {
   "cell_type": "markdown",
   "metadata": {},
   "source": [
    "## Constraints\n",
    "\n",
    "* Is this a binary tree represented in the form of linked objects or an array?\n",
    "    * An array"
   ]
  },
  {
   "cell_type": "markdown",
   "metadata": {},
   "source": [
    "## Test Cases\n",
    "\n",
    "Input:\n",
    "\n",
    "1. [1, 2, 3, 4, 5, 6, 7, 8, 9]\n",
    "2. [3, 5, 4, 2, 6, 8, 9, 7, 1]\n",
    "\n",
    "Output:\n",
    "\n",
    "1. Any array that satisfies the max-heap property\n",
    "    e.g. [9, 7, 8, 5, 6, 3, 4, 2, 1]\n",
    "2. Any array that satisfies the min-heap property\n",
    "    e.g. [1, 2, 4, 3, 5, 6, 8, 7, 9]\n",
    "\n",
    "The above arrays are not the only possible outputs, but all output arrays must satisfy the max-heap and min-heap properties"
   ]
  },
  {
   "cell_type": "markdown",
   "metadata": {},
   "source": [
    "## Algorithm\n",
    "\n",
    "Refer to the [Solution Notebook](#).  If you are stuck and need a hint, the solution notebook's algorithm discussion might be a good place to start."
   ]
  },
  {
   "cell_type": "markdown",
   "metadata": {},
   "source": [
    "## Code"
   ]
  },
  {
   "cell_type": "code",
   "execution_count": null,
   "metadata": {
    "collapsed": false
   },
   "outputs": [],
   "source": [
    "def left_child(index):\n",
    "    # Returns the index of the left child\n",
    "    return 2*index + 1\n",
    "\n",
    "\n",
    "def right_child(index):\n",
    "    # Returns the index of the right child\n",
    "    return 2*index + 2\n",
    "\n",
    "\n",
    "def is_max_heap(H):\n",
    "    for i in range(0, len(H)/2 + 1):\n",
    "        if H[i] < H[left_child(i)] or H[i] < H[right_child(i)]:\n",
    "            return False\n",
    "    return True\n",
    "\n",
    "\n",
    "def is_min_heap(H):\n",
    "    for i in range(0, len(H)/2 + 1):\n",
    "        if H[i] > H[left_child(i)] or H[i] > H[right_child(i)]:\n",
    "            return False\n",
    "    return True\n",
    "\n"
   ]
  },
  {
   "cell_type": "code",
   "execution_count": null,
   "metadata": {
    "collapsed": false
   },
   "outputs": [],
   "source": [
    "def max_heapify(H, index):\n",
    "    # TODO: Implement me\n",
    "    pass\n",
    "\n",
    "\n",
    "def min_heapify(H, index):\n",
    "    # TODO: Implement me\n",
    "    pass\n",
    "\n",
    "def build_max_heap(H):\n",
    "    for i in range(len(H)/2 + 1, -1, -1):\n",
    "        H = max_heapify(H, i)\n",
    "    return H\n",
    "\n",
    "\n",
    "def build_min_heap(H):\n",
    "    for i in range(len(H)/2 + 1, -1, -1):\n",
    "        H = min_heapify(H, i)\n",
    "    return H\n",
    "\n"
   ]
  },
  {
   "cell_type": "markdown",
   "metadata": {},
   "source": [
    "## Unit Test"
   ]
  },
  {
   "cell_type": "code",
   "execution_count": null,
   "metadata": {
    "collapsed": false
   },
   "outputs": [],
   "source": [
    "%%writefile test_tree_to_heap.py\n",
    "from nose.tools import assert_equal\n",
    "\n",
    "class TestTreeToHeap(object):\n",
    "    \n",
    "    def test_build_max_heap(self):\n",
    "        test_input = [1, 2, 3, 4, 5, 6, 7, 8, 9]\n",
    "        output_heap = build_max_heap(test_input)\n",
    "        \n",
    "        assert_equal(is_max_heap(output_heap), True)\n",
    "        \n",
    "        print \"Success: test_build_max_heap\"\n",
    "    \n",
    "    \n",
    "    def test_build_min_heap(self):\n",
    "        test_input = [3, 5, 4, 2, 6, 8, 9, 7, 1]\n",
    "        output_heap = build_min_heap(test_input)\n",
    "        \n",
    "        assert_equal(is_min_heap(output_heap), True)\n",
    "        \n",
    "        print \"Success: test_build_min_heap\"\n",
    "        \n",
    "def main():\n",
    "    test = TestTreeToHeap()\n",
    "    \n",
    "    test.test_build_max_heap()\n",
    "    test.test_build_min_heap()\n",
    "\n",
    "if __name__ == \"__main__\":\n",
    "    main()"
   ]
  },
  {
   "cell_type": "code",
   "execution_count": null,
   "metadata": {
    "collapsed": false
   },
   "outputs": [],
   "source": [
    "%run -i test_tree_to_heap.py"
   ]
  },
  {
   "cell_type": "markdown",
   "metadata": {},
   "source": [
    "## Solution Notebook\n",
    "\n",
    "Review the [Solution Notebook](#) for a discussion on algorithms and code solutions."
   ]
  }
 ],
 "metadata": {
  "kernelspec": {
   "display_name": "Python 2",
   "language": "python",
   "name": "python2"
  },
  "language_info": {
   "codemirror_mode": {
    "name": "ipython",
    "version": 2
   },
   "file_extension": ".py",
   "mimetype": "text/x-python",
   "name": "python",
   "nbconvert_exporter": "python",
   "pygments_lexer": "ipython2",
   "version": "2.7.10"
  }
 },
 "nbformat": 4,
 "nbformat_minor": 0
}
